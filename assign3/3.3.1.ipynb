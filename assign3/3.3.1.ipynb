{
 "cells": [
  {
   "cell_type": "code",
   "execution_count": 2,
   "id": "77d00841-be7a-4cf0-b088-aad7cdd1ed9d",
   "metadata": {},
   "outputs": [
    {
     "name": "stdout",
     "output_type": "stream",
     "text": [
      "10.0\n"
     ]
    }
   ],
   "source": [
    "# Phạm Thành Long - B22DCCN505\n",
    "import tensorflow.compat.v1 as tf\n",
    "tf.compat.v1.disable_eager_execution()\n",
    "x = tf.placeholder(tf.float32,None)\n",
    "y = tf.add(x,x)\n",
    "with tf.Session() as sess:\n",
    " x_data= 5\n",
    " result = sess.run(y,feed_dict={x:x_data})\n",
    " print(result)"
   ]
  },
  {
   "cell_type": "code",
   "execution_count": null,
   "id": "fa119aa0-4af8-4b44-b731-6f669ea2f3d9",
   "metadata": {},
   "outputs": [],
   "source": []
  }
 ],
 "metadata": {
  "kernelspec": {
   "display_name": "Python 3.11",
   "language": "python",
   "name": "python311"
  },
  "language_info": {
   "codemirror_mode": {
    "name": "ipython",
    "version": 3
   },
   "file_extension": ".py",
   "mimetype": "text/x-python",
   "name": "python",
   "nbconvert_exporter": "python",
   "pygments_lexer": "ipython3",
   "version": "3.11.4"
  }
 },
 "nbformat": 4,
 "nbformat_minor": 5
}
