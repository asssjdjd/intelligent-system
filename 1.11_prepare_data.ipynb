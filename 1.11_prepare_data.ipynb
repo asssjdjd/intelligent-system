{
 "cells": [
  {
   "cell_type": "code",
   "execution_count": 1,
   "id": "45f98ce2-bfab-4d5f-9e5c-b5640a240839",
   "metadata": {},
   "outputs": [
    {
     "name": "stdout",
     "output_type": "stream",
     "text": [
      "File salary.csv đã được tạo thành công!\n"
     ]
    }
   ],
   "source": [
    "import pandas as pd\n",
    "\n",
    "def create_salary_csv(filename=\"salary.csv\"):\n",
    "    data = {\n",
    "        \"gender\": [\n",
    "            \"men\",\"men\",\"men\",\"men\",\"men\",\"men\",\"men\",\n",
    "            \"women\",\"women\",\"women\",\"women\",\"women\",\"women\",\"women\"\n",
    "        ],\n",
    "        \"salary\": [\n",
    "            100000,120000,119000,77000,83000,120000,125000,\n",
    "            30000,140000,38000,45000,23000,145000,170000\n",
    "        ]\n",
    "    }\n",
    "\n",
    "    df = pd.DataFrame(data)\n",
    "    df.to_csv(filename, index=False)\n",
    "    print(f\"File {filename} đã được tạo thành công!\")\n",
    "\n",
    "# Gọi hàm để tạo file\n",
    "create_salary_csv()\n"
   ]
  },
  {
   "cell_type": "code",
   "execution_count": null,
   "id": "3a1f9e23-76d5-4e31-954a-a7ed51698861",
   "metadata": {},
   "outputs": [],
   "source": []
  }
 ],
 "metadata": {
  "kernelspec": {
   "display_name": "Python 3.11",
   "language": "python",
   "name": "python311"
  },
  "language_info": {
   "codemirror_mode": {
    "name": "ipython",
    "version": 3
   },
   "file_extension": ".py",
   "mimetype": "text/x-python",
   "name": "python",
   "nbconvert_exporter": "python",
   "pygments_lexer": "ipython3",
   "version": "3.11.4"
  }
 },
 "nbformat": 4,
 "nbformat_minor": 5
}
