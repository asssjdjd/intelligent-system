{
 "cells": [
  {
   "cell_type": "code",
   "execution_count": 2,
   "id": "ca66dcd9-572c-49a0-aef5-382d22bb6166",
   "metadata": {},
   "outputs": [
    {
     "name": "stdout",
     "output_type": "stream",
     "text": [
      "[[[ 2.  4.  6.]\n",
      "  [ 4.  6.  8.]\n",
      "  [ 4.  6. 10.]\n",
      "  [ 0.  2.  4.]]]\n"
     ]
    }
   ],
   "source": [
    "# Phạm Thành Long B22DCCN505\n",
    "import tensorflow.compat.v1 as tf\n",
    "tf.compat.v1.disable_eager_execution()\n",
    "x = tf.placeholder(tf.float32,[None,4,3])\n",
    "y = tf.add(x,x)\n",
    "with tf.Session() as sess:\n",
    " x_data= [[[1,2,3],\n",
    " [2,3,4],\n",
    " [2,3,5],\n",
    " [0,1,2]\n",
    " ]]\n",
    " result = sess.run(y,feed_dict={x:x_data})\n",
    " print(result)\n"
   ]
  },
  {
   "cell_type": "code",
   "execution_count": null,
   "id": "87314fc6-cef7-4369-9870-90f128fd6150",
   "metadata": {},
   "outputs": [],
   "source": []
  }
 ],
 "metadata": {
  "kernelspec": {
   "display_name": "Python 3.11",
   "language": "python",
   "name": "python311"
  },
  "language_info": {
   "codemirror_mode": {
    "name": "ipython",
    "version": 3
   },
   "file_extension": ".py",
   "mimetype": "text/x-python",
   "name": "python",
   "nbconvert_exporter": "python",
   "pygments_lexer": "ipython3",
   "version": "3.11.4"
  }
 },
 "nbformat": 4,
 "nbformat_minor": 5
}
