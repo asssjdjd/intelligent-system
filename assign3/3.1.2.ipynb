{
 "cells": [
  {
   "cell_type": "code",
   "execution_count": 1,
   "id": "152e738d-cc1a-4b3b-852f-c2acde634c48",
   "metadata": {},
   "outputs": [
    {
     "name": "stdout",
     "output_type": "stream",
     "text": [
      "tf.Tensor(\n",
      "[[[5. 3. 4. 6.]\n",
      "  [2. 3. 4. 0.]]\n",
      "\n",
      " [[5. 3. 4. 6.]\n",
      "  [2. 3. 4. 0.]]\n",
      "\n",
      " [[5. 3. 4. 6.]\n",
      "  [2. 3. 4. 0.]]], shape=(3, 2, 4), dtype=float32)\n"
     ]
    }
   ],
   "source": [
    "# Phạm Thành Long - B22DCCN505\n",
    "import tensorflow.compat.v1 as tf\n",
    "x = tf.constant(5,tf.float32)\n",
    "y = tf.constant([5], tf.float32)\n",
    "z = tf.constant([5,3,4], tf.float32)\n",
    "t = tf.constant([[5,3,4,6],[2,3,4,7]], tf.float32)\n",
    "u = tf.constant([[[5,3,4,6],[2,3,4,0]]], tf.float32)\n",
    "v = tf.constant([[[5,3,4,6],[2,3,4,0]],\n",
    " [[5,3,4,6],[2,3,4,0]],\n",
    "[[5,3,4,6],[2,3,4,0]]\n",
    " ], tf.float32)\n",
    "print(v)"
   ]
  },
  {
   "cell_type": "code",
   "execution_count": null,
   "id": "07ebfd13-be4e-4ba5-9588-8ca85e0f13a3",
   "metadata": {},
   "outputs": [],
   "source": []
  }
 ],
 "metadata": {
  "kernelspec": {
   "display_name": "Python 3.11",
   "language": "python",
   "name": "python311"
  },
  "language_info": {
   "codemirror_mode": {
    "name": "ipython",
    "version": 3
   },
   "file_extension": ".py",
   "mimetype": "text/x-python",
   "name": "python",
   "nbconvert_exporter": "python",
   "pygments_lexer": "ipython3",
   "version": "3.11.4"
  }
 },
 "nbformat": 4,
 "nbformat_minor": 5
}
