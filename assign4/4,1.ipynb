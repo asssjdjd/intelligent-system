{
 "cells": [
  {
   "cell_type": "code",
   "execution_count": 2,
   "id": "d779558d-0ede-47cb-bda5-4b46171a60bb",
   "metadata": {},
   "outputs": [
    {
     "name": "stdout",
     "output_type": "stream",
     "text": [
      "Dataset saved at C:\\DATA\\data_4.1.csv\n",
      "        job  age  height_cm  weight_kg\n",
      "0  software   50      186.3       98.1\n",
      "1   teacher   28      167.4       71.0\n",
      "2   student   29      179.4       72.7\n",
      "3    driver   42      163.1       75.4\n",
      "4  software   32      167.0       74.2\n"
     ]
    }
   ],
   "source": [
    "# Phạm Thành Long\n",
    "\n",
    "import numpy as np\n",
    "import pandas as pd\n",
    "\n",
    "# Seed để kết quả reproducible\n",
    "np.random.seed(42)\n",
    "\n",
    "# Danh sách nghề\n",
    "jobs = ['office', 'construction', 'healthcare', 'teacher', \n",
    "        'driver', 'retail', 'software', 'student', 'retired', 'farmer']\n",
    "\n",
    "# Base BMI trung bình theo nghề\n",
    "job_bmi_map = {\n",
    "    'office': 27, 'construction': 23, 'healthcare': 24,\n",
    "    'teacher': 25, 'driver': 27, 'retail': 25,\n",
    "    'software': 26, 'student': 22, 'retired': 26, 'farmer': 22\n",
    "}\n",
    "\n",
    "n = 1000\n",
    "job_choices = np.random.choice(jobs, n)\n",
    "\n",
    "ages = np.clip(np.random.normal(40, 12, n).astype(int), 18, 75)\n",
    "heights = np.clip(np.random.normal(170, 10, n), 140, 200)\n",
    "\n",
    "bmis = []\n",
    "for job, age in zip(job_choices, ages):\n",
    "    base_bmi = job_bmi_map[job]\n",
    "    age_effect = 0.02 * (age - 40)\n",
    "    bmi = np.random.normal(loc=base_bmi + age_effect, scale=2.0)\n",
    "    bmis.append(bmi)\n",
    "\n",
    "weights = bmis * (heights/100)**2\n",
    "\n",
    "df = pd.DataFrame({\n",
    "    'job': job_choices,\n",
    "    'age': ages,\n",
    "    'height_cm': heights.round(1),\n",
    "    'weight_kg': weights.round(1)\n",
    "})\n",
    "\n",
    "# Lưu file CSV\n",
    "path = r\"C:\\DATA\\data_4.1.csv\"\n",
    "df.to_csv(path, index=False)\n",
    "\n",
    "print(f\"Dataset saved at {path}\")\n",
    "print(df.head())\n"
   ]
  },
  {
   "cell_type": "code",
   "execution_count": null,
   "id": "a2bbdd57-d4b3-4e57-b402-8f848a2aaf7e",
   "metadata": {},
   "outputs": [],
   "source": []
  }
 ],
 "metadata": {
  "kernelspec": {
   "display_name": "Python 3.11",
   "language": "python",
   "name": "python311"
  },
  "language_info": {
   "codemirror_mode": {
    "name": "ipython",
    "version": 3
   },
   "file_extension": ".py",
   "mimetype": "text/x-python",
   "name": "python",
   "nbconvert_exporter": "python",
   "pygments_lexer": "ipython3",
   "version": "3.11.4"
  }
 },
 "nbformat": 4,
 "nbformat_minor": 5
}
