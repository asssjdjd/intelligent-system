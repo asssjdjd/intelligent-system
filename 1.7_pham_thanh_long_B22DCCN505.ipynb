{
 "cells": [
  {
   "cell_type": "code",
   "execution_count": 7,
   "id": "6f76d7f5-4b25-4803-bf36-6e4b8c8fc82f",
   "metadata": {},
   "outputs": [
    {
     "name": "stdout",
     "output_type": "stream",
     "text": [
      "Ann: BMI = 28.89, Category = Overweight\n",
      "Joe: BMI = 14.52, Category = Underweight\n",
      "Mark: BMI = 23.05, Category = Normal weight\n"
     ]
    }
   ],
   "source": [
    "# Pham Thanh Long - B22DCCN505\n",
    "import numpy as np\n",
    "\n",
    "names = np.array(['Ann','Joe','Mark'])\n",
    "heights = np.array([1.5, 1.78, 1.6])\n",
    "weights = np.array([65, 46, 59])\n",
    "\n",
    "# Tính BMI\n",
    "bmi = weights / (heights ** 2)\n",
    "\n",
    "# Phân loại\n",
    "categories = np.where(bmi < 18.5, \"Underweight\",\n",
    "              np.where(bmi > 25, \"Overweight\", \"Normal weight\"))\n",
    "\n",
    "# Hiển thị kết quả\n",
    "for name, b, cat in zip(names, bmi, categories):\n",
    "    print(f\"{name}: BMI = {b:.2f}, Category = {cat}\")\n",
    "\n",
    "\n"
   ]
  },
  {
   "cell_type": "code",
   "execution_count": null,
   "id": "41248db6-7dc4-45a5-ab14-249b29df8c35",
   "metadata": {},
   "outputs": [],
   "source": []
  },
  {
   "cell_type": "code",
   "execution_count": null,
   "id": "e52eec97-84dc-4bbd-a36b-b03a1a6b2570",
   "metadata": {},
   "outputs": [],
   "source": []
  }
 ],
 "metadata": {
  "kernelspec": {
   "display_name": "Python 3 (ipykernel)",
   "language": "python",
   "name": "python3"
  },
  "language_info": {
   "codemirror_mode": {
    "name": "ipython",
    "version": 3
   },
   "file_extension": ".py",
   "mimetype": "text/x-python",
   "name": "python",
   "nbconvert_exporter": "python",
   "pygments_lexer": "ipython3",
   "version": "3.12.7"
  }
 },
 "nbformat": 4,
 "nbformat_minor": 5
}
