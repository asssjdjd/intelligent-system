{
 "cells": [
  {
   "cell_type": "code",
   "execution_count": 2,
   "id": "9e8bf290-c075-4dbb-805e-9a1dfe5e15ba",
   "metadata": {},
   "outputs": [
    {
     "name": "stdout",
     "output_type": "stream",
     "text": [
      "[[[2. 4. 6.]]]\n"
     ]
    }
   ],
   "source": [
    "# Phạm Thành Long - B22DCCN505\n",
    "import tensorflow.compat.v1 as tf\n",
    "tf.compat.v1.disable_eager_execution()\n",
    "x = tf.placeholder(tf.float32,[None,None,3])\n",
    "y = tf.add(x,x)\n",
    "with tf.Session() as sess:\n",
    " x_data= [[[1,2,3]]]\n",
    " result = sess.run(y,feed_dict={x:x_data})\n",
    " print(result)\n"
   ]
  },
  {
   "cell_type": "code",
   "execution_count": null,
   "id": "79e46eb6-5a05-4ae3-9fb2-c3367feadebb",
   "metadata": {},
   "outputs": [],
   "source": []
  }
 ],
 "metadata": {
  "kernelspec": {
   "display_name": "Python 3.11",
   "language": "python",
   "name": "python311"
  },
  "language_info": {
   "codemirror_mode": {
    "name": "ipython",
    "version": 3
   },
   "file_extension": ".py",
   "mimetype": "text/x-python",
   "name": "python",
   "nbconvert_exporter": "python",
   "pygments_lexer": "ipython3",
   "version": "3.11.4"
  }
 },
 "nbformat": 4,
 "nbformat_minor": 5
}
