{
 "cells": [
  {
   "cell_type": "code",
   "execution_count": 3,
   "id": "ab020887-182a-447b-aae7-8a2dd85d5cfe",
   "metadata": {},
   "outputs": [
    {
     "name": "stdout",
     "output_type": "stream",
     "text": [
      "Epoch 1\n",
      "Test acc: 0.6036\n",
      "Epoch 2\n",
      "Test acc: 0.65492\n",
      "Epoch 3\n",
      "Test acc: 0.65192\n"
     ]
    }
   ],
   "source": [
    "# Phạm Thành Long B22ĐCN505\n",
    "import tensorflow as tf\n",
    "from tensorflow.keras.preprocessing.sequence import pad_sequences\n",
    "\n",
    "num_words = 10000\n",
    "maxlen = 200\n",
    "\n",
    "(x_train, y_train), (x_test, y_test) = tf.keras.datasets.imdb.load_data(num_words=num_words)\n",
    "\n",
    "# pad về cùng chiều dài\n",
    "x_train = pad_sequences(x_train, maxlen=maxlen)\n",
    "x_test  = pad_sequences(x_test, maxlen=maxlen)\n",
    "\n",
    "# ép nhãn về float32\n",
    "y_train = y_train.astype(\"float32\")\n",
    "y_test  = y_test.astype(\"float32\")\n",
    "\n",
    "# 3. Khởi tạo layers thủ công\n",
    "embedding = tf.keras.layers.Embedding(input_dim=num_words, output_dim=128)\n",
    "dense1 = tf.keras.layers.Dense(32, activation=\"relu\")\n",
    "dense2 = tf.keras.layers.Dense(1)  # logits, nhị phân\n",
    "\n",
    "\n",
    "# 4. Forward\n",
    "def model(x):\n",
    "    x = embedding(x)\n",
    "    x = tf.reduce_mean(x, axis=1)  # average pooling đơn giản\n",
    "    x = dense1(x)\n",
    "    return dense2(x)  # logits\n",
    "\n",
    "# 5. Loss và optimizer\n",
    "loss_fn = tf.keras.losses.BinaryCrossentropy(from_logits=True)\n",
    "optimizer = tf.keras.optimizers.RMSprop()\n",
    "\n",
    "# 6. Training loop\n",
    "batch_size = 128\n",
    "epochs = 3\n",
    "train_dataset = tf.data.Dataset.from_tensor_slices((x_train, y_train)).shuffle(10000).batch(batch_size)\n",
    "\n",
    "for epoch in range(epochs):\n",
    "    print(\"Epoch\", epoch+1)\n",
    "    for step, (x_batch, y_batch) in enumerate(train_dataset):\n",
    "        with tf.GradientTape() as tape:\n",
    "            logits = model(x_batch)\n",
    "            loss = loss_fn(y_batch, logits)\n",
    "        grads = tape.gradient(loss, embedding.trainable_variables + dense1.trainable_variables + dense2.trainable_variables)\n",
    "        optimizer.apply_gradients(zip(grads, embedding.trainable_variables + dense1.trainable_variables + dense2.trainable_variables))\n",
    "    # Evaluate\n",
    "    test_logits = model(x_test)\n",
    "    preds = tf.round(tf.sigmoid(test_logits))\n",
    "    acc = tf.reduce_mean(tf.cast(tf.equal(preds, tf.expand_dims(y_test, -1)), tf.float32))\n",
    "    print(\"Test acc:\", acc.numpy())\n"
   ]
  },
  {
   "cell_type": "code",
   "execution_count": null,
   "id": "3c4a2d37-ecfa-498d-bc52-97dbacff79b5",
   "metadata": {},
   "outputs": [],
   "source": []
  }
 ],
 "metadata": {
  "kernelspec": {
   "display_name": "Python 3.11",
   "language": "python",
   "name": "python311"
  },
  "language_info": {
   "codemirror_mode": {
    "name": "ipython",
    "version": 3
   },
   "file_extension": ".py",
   "mimetype": "text/x-python",
   "name": "python",
   "nbconvert_exporter": "python",
   "pygments_lexer": "ipython3",
   "version": "3.11.4"
  }
 },
 "nbformat": 4,
 "nbformat_minor": 5
}
