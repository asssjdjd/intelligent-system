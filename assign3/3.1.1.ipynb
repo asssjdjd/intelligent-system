{
 "cells": [
  {
   "cell_type": "code",
   "execution_count": 6,
   "id": "cb06c5ed-c4a0-43a2-ac86-7b4745552165",
   "metadata": {},
   "outputs": [
    {
     "name": "stdout",
     "output_type": "stream",
     "text": [
      "Hello World!\n"
     ]
    }
   ],
   "source": [
    "# Phạm Thành Long - B22DCCN505\n",
    "import tensorflow as tf\n",
    "\n",
    "h = tf.constant(\"Hello\")\n",
    "w = tf.constant(\" World!\")\n",
    "hw = tf.strings.join([h, w])\n",
    "\n",
    "print(hw.numpy().decode(\"utf-8\"))"
   ]
  },
  {
   "cell_type": "code",
   "execution_count": null,
   "id": "3cb35bbb-ae01-4491-96d5-1d75ce414dd6",
   "metadata": {},
   "outputs": [],
   "source": []
  },
  {
   "cell_type": "code",
   "execution_count": null,
   "id": "4545ef2f-313c-4262-b5fb-92e8f6666042",
   "metadata": {},
   "outputs": [],
   "source": []
  }
 ],
 "metadata": {
  "kernelspec": {
   "display_name": "Python 3.11",
   "language": "python",
   "name": "python311"
  },
  "language_info": {
   "codemirror_mode": {
    "name": "ipython",
    "version": 3
   },
   "file_extension": ".py",
   "mimetype": "text/x-python",
   "name": "python",
   "nbconvert_exporter": "python",
   "pygments_lexer": "ipython3",
   "version": "3.11.4"
  }
 },
 "nbformat": 4,
 "nbformat_minor": 5
}
