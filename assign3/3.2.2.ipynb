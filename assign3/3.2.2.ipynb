{
 "cells": [
  {
   "cell_type": "code",
   "execution_count": 3,
   "id": "2169b815-b17f-47bf-a87e-531f611742b3",
   "metadata": {},
   "outputs": [
    {
     "name": "stdout",
     "output_type": "stream",
     "text": [
      "[[22.79 19.35 42.  ]\n",
      " [22.79 19.35 42.  ]]\n"
     ]
    }
   ],
   "source": [
    "import tensorflow.compat.v1 as tf\n",
    "tf.compat.v1.disable_eager_execution()\n",
    "x1 = tf.Variable([[5.3,4.5,6.0],\n",
    " [4.3,4.3,7.0]\n",
    " ], tf.float32)\n",
    "x2 = tf.Variable([[4.3,4.3,7.0],\n",
    " [5.3,4.5,6.0]\n",
    " ], tf.float32)\n",
    "x = tf.multiply(x1,x2)\n",
    "init = tf.global_variables_initializer()\n",
    "with tf.Session() as sess:\n",
    " sess.run(init)\n",
    " t = sess.run(x)\n",
    " print(t)\n"
   ]
  },
  {
   "cell_type": "code",
   "execution_count": null,
   "id": "a1715106-0d89-4d05-8d1f-958c6f679e03",
   "metadata": {},
   "outputs": [],
   "source": []
  }
 ],
 "metadata": {
  "kernelspec": {
   "display_name": "Python 3.11",
   "language": "python",
   "name": "python311"
  },
  "language_info": {
   "codemirror_mode": {
    "name": "ipython",
    "version": 3
   },
   "file_extension": ".py",
   "mimetype": "text/x-python",
   "name": "python",
   "nbconvert_exporter": "python",
   "pygments_lexer": "ipython3",
   "version": "3.11.4"
  }
 },
 "nbformat": 4,
 "nbformat_minor": 5
}
