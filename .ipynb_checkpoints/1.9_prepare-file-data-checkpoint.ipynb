{
 "cells": [
  {
   "cell_type": "code",
   "execution_count": 1,
   "id": "e63d3c8f-1c3e-4bc2-93c3-d4e3dfecc46e",
   "metadata": {},
   "outputs": [
    {
     "name": "stdout",
     "output_type": "stream",
     "text": [
      "CSV file created successfully!\n"
     ]
    }
   ],
   "source": [
    "import pandas as pd\n",
    "\n",
    "# Tạo dữ liệu đúng với danh sách bạn đưa\n",
    "data = {\n",
    "    \"gender\": [\n",
    "        \"men\",\"men\",\"men\",\n",
    "        \"women\",\"women\",\"women\",\n",
    "        \"men\",\"men\",\"men\",\"men\",\n",
    "        \"women\",\"women\",\"women\",\"women\",\"women\"\n",
    "    ],\n",
    "    \"group\": [\n",
    "        \"A\",\"A\",\"A\",\n",
    "        \"A\",\"A\",\"A\",\n",
    "        \"B\",\"B\",\"B\",\"B\",\n",
    "        \"B\",\"B\",\"B\",\"B\",\"B\"\n",
    "    ],\n",
    "    \"license\": [\n",
    "        1,0,1,   # men A\n",
    "        1,0,0,   # women A\n",
    "        0,0,0,1, # men B\n",
    "        1,1,1,1,1 # women B\n",
    "    ]\n",
    "}\n",
    "\n",
    "df = pd.DataFrame(data)\n",
    "\n",
    "# Lưu ra CSV\n",
    "df.to_csv(\"drivinglicense.csv\", index=False)\n",
    "\n",
    "print(\"CSV file created successfully!\")\n"
   ]
  },
  {
   "cell_type": "code",
   "execution_count": null,
   "id": "2be71b77-4389-4b1b-8353-cb247819d60c",
   "metadata": {},
   "outputs": [],
   "source": []
  }
 ],
 "metadata": {
  "kernelspec": {
   "display_name": "Python 3.11",
   "language": "python",
   "name": "python311"
  },
  "language_info": {
   "codemirror_mode": {
    "name": "ipython",
    "version": 3
   },
   "file_extension": ".py",
   "mimetype": "text/x-python",
   "name": "python",
   "nbconvert_exporter": "python",
   "pygments_lexer": "ipython3",
   "version": "3.11.4"
  }
 },
 "nbformat": 4,
 "nbformat_minor": 5
}
