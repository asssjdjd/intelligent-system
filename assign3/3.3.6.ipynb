{
 "cells": [
  {
   "cell_type": "code",
   "execution_count": 2,
   "id": "1166c2b0-c5c8-417a-8c96-db8877b5aa40",
   "metadata": {},
   "outputs": [
    {
     "name": "stdout",
     "output_type": "stream",
     "text": [
      "result1 = [[[ 2.  4.  6.]\n",
      "  [ 4.  6.  8.]\n",
      "  [ 4.  6. 10.]\n",
      "  [ 0.  2.  4.]]\n",
      "\n",
      " [[ 2.  4.  6.]\n",
      "  [ 4.  6.  8.]\n",
      "  [ 4.  6. 10.]\n",
      "  [ 0.  2.  4.]]]\n",
      "result2 = [[[ 1.  4.  9.]\n",
      "  [ 4.  9. 16.]\n",
      "  [ 4.  9. 25.]\n",
      "  [ 0.  1.  4.]]\n",
      "\n",
      " [[ 1.  4.  9.]\n",
      "  [ 4.  9. 16.]\n",
      "  [ 4.  9. 25.]\n",
      "  [ 0.  1.  4.]]]\n"
     ]
    }
   ],
   "source": [
    "# Phạm Thành Long B22DCCN505\n",
    "import tensorflow.compat.v1 as tf\n",
    "tf.compat.v1.disable_eager_execution()\n",
    "x = tf.placeholder(tf.float32,[2,4,3])\n",
    "y = tf.placeholder(tf.float32,[2,4,3])\n",
    "z = tf.add(x,y)\n",
    "u = tf.multiply(x,y)\n",
    "with tf.Session() as sess:\n",
    " x_data= [[[1,2,3],\n",
    " [2,3,4],\n",
    " [2,3,5],\n",
    " [0,1,2]\n",
    " ],\n",
    " [[1,2,3],\n",
    " [2,3,4],\n",
    " [2,3,5],\n",
    " [0,1,2]\n",
    " ]]\n",
    " y_data= [[[1,2,3],\n",
    " [2,3,4],\n",
    " [2,3,5],\n",
    " [0,1,2]\n",
    " ],\n",
    " [[1,2,3],\n",
    " [2,3,4],\n",
    " [2,3,5],\n",
    " [0,1,2]\n",
    " ]]\n",
    " result1 = sess.run(z,feed_dict={x:x_data, y:y_data})\n",
    " result2 = sess.run(u,feed_dict={x:x_data, y:y_data})\n",
    " print(\"result1 =\", result1)\n",
    " print(\"result2 =\", result2)\n"
   ]
  },
  {
   "cell_type": "code",
   "execution_count": null,
   "id": "25f17b84-f4c4-4f45-814f-82440123780b",
   "metadata": {},
   "outputs": [],
   "source": []
  }
 ],
 "metadata": {
  "kernelspec": {
   "display_name": "Python 3.11",
   "language": "python",
   "name": "python311"
  },
  "language_info": {
   "codemirror_mode": {
    "name": "ipython",
    "version": 3
   },
   "file_extension": ".py",
   "mimetype": "text/x-python",
   "name": "python",
   "nbconvert_exporter": "python",
   "pygments_lexer": "ipython3",
   "version": "3.11.4"
  }
 },
 "nbformat": 4,
 "nbformat_minor": 5
}
