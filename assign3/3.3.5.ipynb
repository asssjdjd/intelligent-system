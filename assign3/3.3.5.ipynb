{
 "cells": [
  {
   "cell_type": "code",
   "execution_count": 2,
   "id": "f553e681-83bb-4705-bb4c-d08c1b20dcdc",
   "metadata": {},
   "outputs": [
    {
     "name": "stdout",
     "output_type": "stream",
     "text": [
      "[[[ 2.  4.  6.]\n",
      "  [ 4.  6.  8.]\n",
      "  [ 4.  6. 10.]\n",
      "  [ 0.  2.  4.]]\n",
      "\n",
      " [[ 2.  4.  6.]\n",
      "  [ 4.  6.  8.]\n",
      "  [ 4.  6. 10.]\n",
      "  [ 0.  2.  4.]]]\n"
     ]
    }
   ],
   "source": [
    "# Phạm Thành Long -B22DCCN505\n",
    "import tensorflow.compat.v1 as tf\n",
    "tf.compat.v1.disable_eager_execution()\n",
    "x = tf.placeholder(tf.float32,[2,4,3])\n",
    "y = tf.add(x,x)\n",
    "with tf.Session() as sess:\n",
    " x_data= [[[1,2,3],\n",
    " [2,3,4],\n",
    " [2,3,5],\n",
    " [0,1,2]\n",
    " ],\n",
    " [[1,2,3],\n",
    " [2,3,4],\n",
    " [2,3,5],\n",
    " [0,1,2]\n",
    " ]]\n",
    " result = sess.run(y,feed_dict={x:x_data})\n",
    " print(result)\n"
   ]
  },
  {
   "cell_type": "code",
   "execution_count": null,
   "id": "e461fbe2-31ca-428b-86ae-a431761b1bfe",
   "metadata": {},
   "outputs": [],
   "source": []
  }
 ],
 "metadata": {
  "kernelspec": {
   "display_name": "Python 3.11",
   "language": "python",
   "name": "python311"
  },
  "language_info": {
   "codemirror_mode": {
    "name": "ipython",
    "version": 3
   },
   "file_extension": ".py",
   "mimetype": "text/x-python",
   "name": "python",
   "nbconvert_exporter": "python",
   "pygments_lexer": "ipython3",
   "version": "3.11.4"
  }
 },
 "nbformat": 4,
 "nbformat_minor": 5
}
