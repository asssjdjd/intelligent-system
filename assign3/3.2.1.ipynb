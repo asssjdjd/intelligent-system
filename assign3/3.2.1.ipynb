{
 "cells": [
  {
   "cell_type": "markdown",
   "id": "00c23304-d2fb-472e-9bb5-6d33f6748b64",
   "metadata": {},
   "source": [
    "\n"
   ]
  },
  {
   "cell_type": "code",
   "execution_count": 13,
   "id": "289fede6-0ea5-4c58-83a6-65202d656802",
   "metadata": {},
   "outputs": [
    {
     "name": "stdout",
     "output_type": "stream",
     "text": [
      "22.79\n"
     ]
    }
   ],
   "source": [
    "# Phạm Thành Long\n",
    "import tensorflow.compat.v1 as tf\n",
    "tf.compat.v1.disable_eager_execution()\n",
    "\n",
    "x1 = tf.Variable(5.3, tf.float32)\n",
    "x2 = tf.Variable(4.3, tf.float32)\n",
    "\n",
    "x = tf.multiply(x1, x2)\n",
    "\n",
    "init = tf.global_variables_initializer()\n",
    "\n",
    "# Tạo Session và chạy\n",
    "with tf.Session() as sess:\n",
    "    sess.run(init) \n",
    "    t = sess.run(x)  # chạy phép nhân\n",
    "    print(t)         # in kết quả"
   ]
  },
  {
   "cell_type": "code",
   "execution_count": null,
   "id": "31f1c881-2d1f-4413-a5c2-d97e748a779e",
   "metadata": {},
   "outputs": [],
   "source": []
  },
  {
   "cell_type": "code",
   "execution_count": null,
   "id": "bb038889-5bf8-485b-a8c9-93b89045507c",
   "metadata": {},
   "outputs": [],
   "source": []
  }
 ],
 "metadata": {
  "kernelspec": {
   "display_name": "Python 3.11",
   "language": "python",
   "name": "python311"
  },
  "language_info": {
   "codemirror_mode": {
    "name": "ipython",
    "version": 3
   },
   "file_extension": ".py",
   "mimetype": "text/x-python",
   "name": "python",
   "nbconvert_exporter": "python",
   "pygments_lexer": "ipython3",
   "version": "3.11.4"
  }
 },
 "nbformat": 4,
 "nbformat_minor": 5
}
