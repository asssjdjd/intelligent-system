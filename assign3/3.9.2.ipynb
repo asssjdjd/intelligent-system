{
 "cells": [
  {
   "cell_type": "code",
   "execution_count": 4,
   "id": "3d35d118-ca55-49d4-8bfb-e2c430b94b44",
   "metadata": {},
   "outputs": [
    {
     "name": "stdout",
     "output_type": "stream",
     "text": [
      "Epoch 1\n",
      "Test accuracy: 0.9613\n",
      "Epoch 2\n",
      "Test accuracy: 0.9733\n",
      "Epoch 3\n",
      "Test accuracy: 0.9737\n",
      "Epoch 4\n",
      "Test accuracy: 0.9797\n",
      "Epoch 5\n",
      "Test accuracy: 0.9791\n"
     ]
    }
   ],
   "source": [
    "# Phạm Thành Long - B22DCCN505\n",
    "import tensorflow as tf\n",
    "import numpy as np\n",
    "\n",
    "# Load dữ liệu\n",
    "(x_train, y_train), (x_test, y_test) = tf.keras.datasets.mnist.load_data()\n",
    "x_train = x_train.reshape((60000, 28*28)).astype(\"float32\") / 255\n",
    "x_test = x_test.reshape((10000, 28*28)).astype(\"float32\") / 255\n",
    "\n",
    "# One-hot nhãn\n",
    "y_train = tf.one_hot(y_train, depth=10).numpy()\n",
    "y_test = tf.one_hot(y_test, depth=10).numpy()\n",
    "\n",
    "# Khởi tạo weight\n",
    "W1 = tf.Variable(tf.random.normal([28*28, 512], stddev=0.1))\n",
    "b1 = tf.Variable(tf.zeros([512]))\n",
    "W2 = tf.Variable(tf.random.normal([512, 10], stddev=0.1))\n",
    "b2 = tf.Variable(tf.zeros([10]))\n",
    "# Forward\n",
    "def model(x):\n",
    "    h = tf.nn.relu(tf.matmul(x, W1) + b1)\n",
    "    return tf.nn.softmax(tf.matmul(h, W2) + b2)\n",
    "\n",
    "# Loss\n",
    "def loss_fn(y_pred, y_true):\n",
    "    return tf.reduce_mean(tf.keras.losses.categorical_crossentropy(y_true, y_pred))\n",
    "\n",
    "# Optimizer\n",
    "optimizer = tf.keras.optimizers.RMSprop()\n",
    "\n",
    "# Training loop\n",
    "batch_size = 128\n",
    "epochs = 5\n",
    "\n",
    "for epoch in range(epochs):\n",
    "    print(\"Epoch\", epoch+1)\n",
    "    # Shuffle\n",
    "    idx = np.random.permutation(len(x_train))\n",
    "    x_train, y_train = x_train[idx], y_train[idx]\n",
    "\n",
    "    for i in range(0, len(x_train), batch_size):\n",
    "        x_batch = x_train[i:i+batch_size]\n",
    "        y_batch = y_train[i:i+batch_size]\n",
    "\n",
    "        with tf.GradientTape() as tape:\n",
    "            preds = model(x_batch)\n",
    "            loss = loss_fn(preds, y_batch)\n",
    "\n",
    "        grads = tape.gradient(loss, [W1, b1, W2, b2])\n",
    "        optimizer.apply_gradients(zip(grads, [W1, b1, W2, b2]))\n",
    "\n",
    "    # Evaluate trên test\n",
    "    test_preds = model(x_test)\n",
    "    correct = tf.equal(tf.argmax(test_preds, axis=1), tf.argmax(y_test, axis=1))\n",
    "    acc = tf.reduce_mean(tf.cast(correct, tf.float32))\n",
    "    print(\"Test accuracy:\", acc.numpy())\n"
   ]
  },
  {
   "cell_type": "code",
   "execution_count": null,
   "id": "85a120d0-4362-4212-a3be-45fc47d7d3aa",
   "metadata": {},
   "outputs": [],
   "source": []
  }
 ],
 "metadata": {
  "kernelspec": {
   "display_name": "Python 3.11",
   "language": "python",
   "name": "python311"
  },
  "language_info": {
   "codemirror_mode": {
    "name": "ipython",
    "version": 3
   },
   "file_extension": ".py",
   "mimetype": "text/x-python",
   "name": "python",
   "nbconvert_exporter": "python",
   "pygments_lexer": "ipython3",
   "version": "3.11.4"
  }
 },
 "nbformat": 4,
 "nbformat_minor": 5
}
